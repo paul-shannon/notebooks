{
 "cells": [
  {
   "cell_type": "code",
   "execution_count": 4,
   "metadata": {
    "collapsed": false
   },
   "outputs": [],
   "source": [
    "import ipywidgets as widgets\n",
    "from traitlets import Unicode"
   ]
  },
  {
   "cell_type": "markdown",
   "metadata": {},
   "source": [
    "*DOMWIDGET* subclass is defined in python, the instance lives on the server, is related to a *DOMWidgetView* javascript object that lives in the browser.\n",
    "  has three traitlet slots which tie together the js and py objects.\n",
    "Here, we specify the browser's js module name and the name of the js widget's view.\n",
    "value is the (arbitrarily named?) python object state slot.\n",
    "tag these three fields so that they are synced between server & browser.\n",
    "\n",
    "(`value` was the origin name of the third slot, changed here (and below) to `valor` to test out the name-flexibility of syncing data between kernel and browser.)"
   ]
  },
  {
   "cell_type": "code",
   "execution_count": 13,
   "metadata": {
    "collapsed": false
   },
   "outputs": [],
   "source": [
    "class HelloWidget(widgets.DOMWidget):\n",
    "    _view_name = Unicode('HelloView').tag(sync=True)\n",
    "    _view_module = Unicode('hello').tag(sync=True)\n",
    "    valor = Unicode('Hello World, with valor!').tag(sync=True)"
   ]
  },
  {
   "cell_type": "markdown",
   "metadata": {},
   "source": [
    "**requirejs**: a popular library for managing (loading, defining) modules.\n",
    "\n",
    "`define('moduleName\", [other libraries], function(refForLibrary1, refForLibrary2, ...){})`\n",
    "\n",
    "The only exported items in the hello module defined below is a js subclass of ipywidgets  DOMWidgetView, with specialized methods `render` and `value_changed`.\n",
    "\n",
    "`DOMWidgetView` provides a `model` slot, with a get method (see `this.model.get(slotName)` below) and the ability to assign at least an on-change event.\n",
    "\n",
    "I don't know how and when these methods are called."
   ]
  },
  {
   "cell_type": "code",
   "execution_count": 17,
   "metadata": {
    "collapsed": false
   },
   "outputs": [
    {
     "data": {
      "application/javascript": [
       "require.undef('hello');\n",
       "\n",
       "define('hello', [\"jupyter-js-widgets\"], function(widgets) {\n",
       "  var HelloView = widgets.DOMWidgetView.extend({\n",
       "     render: function() { \n",
       "       this.value_changed();\n",
       "       this.model.on('change:valor', this.value_changed, this);\n",
       "       },\n",
       "     value_changed: function() {\n",
       "       this.el.textContent = this.model.get('valor'); \n",
       "       },\n",
       "    });\n",
       "   return {\n",
       "     HelloView: HelloView\n",
       "     };\n",
       "  });"
      ],
      "text/plain": [
       "<IPython.core.display.Javascript object>"
      ]
     },
     "metadata": {},
     "output_type": "display_data"
    }
   ],
   "source": [
    "%%javascript\n",
    "require.undef('hello');\n",
    "\n",
    "define('hello', [\"jupyter-js-widgets\"], function(widgets) {\n",
    "  var HelloView = widgets.DOMWidgetView.extend({\n",
    "     render: function() { \n",
    "       this.value_changed();\n",
    "       this.model.on('change:valor', this.value_changed, this);\n",
    "       },\n",
    "     value_changed: function() {\n",
    "       this.el.textContent = this.model.get('valor'); \n",
    "       },\n",
    "    });\n",
    "   return {\n",
    "     HelloView: HelloView\n",
    "     };\n",
    "  });"
   ]
  },
  {
   "cell_type": "code",
   "execution_count": 18,
   "metadata": {
    "collapsed": false
   },
   "outputs": [],
   "source": [
    "w = HelloWidget()\n",
    "w"
   ]
  },
  {
   "cell_type": "code",
   "execution_count": 24,
   "metadata": {
    "collapsed": false
   },
   "outputs": [],
   "source": [
    "w.valor = 'test, a new valor value'"
   ]
  },
  {
   "cell_type": "code",
   "execution_count": 26,
   "metadata": {
    "collapsed": false
   },
   "outputs": [
    {
     "data": {
      "text/plain": [
       "'test, a new valor value'"
      ]
     },
     "execution_count": 26,
     "metadata": {},
     "output_type": "execute_result"
    }
   ],
   "source": [
    "w.valor"
   ]
  },
  {
   "cell_type": "code",
   "execution_count": 28,
   "metadata": {
    "collapsed": false
   },
   "outputs": [],
   "source": [
    "x = Unicode(\"abc\")"
   ]
  },
  {
   "cell_type": "code",
   "execution_count": 29,
   "metadata": {
    "collapsed": false
   },
   "outputs": [],
   "source": [
    "from traitlets import CInt\n",
    "\n",
    "class SpinnerWidget(widgets.DOMWidget):\n",
    "    _view_name = Unicode('SpinnerView').tag(sync=True)\n",
    "    _view_module = Unicode('spinner').tag(sync=True)\n",
    "    value = CInt().tag(sync=True)"
   ]
  },
  {
   "cell_type": "markdown",
   "metadata": {},
   "source": [
    "## An exploration of traitlets"
   ]
  },
  {
   "cell_type": "markdown",
   "metadata": {},
   "source": [
    "An add-on module, apparently used mostly for ipywidgets, [traitlets](https://github.com/ipython/traitlets) provide stronlgy typed attributes upon which notifications can be hung.  The implementation relies on the [descriptor](https://docs.python.org/3/howto/descriptor.html) pattern. This package powers the configuration system of IPython and Jupyter, and the declarative API of IPython interactive widgets"
   ]
  },
  {
   "cell_type": "code",
   "execution_count": 32,
   "metadata": {
    "collapsed": false
   },
   "outputs": [
    {
     "data": {
      "text/plain": [
       "'abc'"
      ]
     },
     "execution_count": 32,
     "metadata": {},
     "output_type": "execute_result"
    }
   ],
   "source": [
    "x.default_value"
   ]
  },
  {
   "cell_type": "code",
   "execution_count": null,
   "metadata": {
    "collapsed": true
   },
   "outputs": [],
   "source": []
  },
  {
   "cell_type": "code",
   "execution_count": null,
   "metadata": {
    "collapsed": false
   },
   "outputs": [],
   "source": [
    "%%javascript\n",
    "define('spinner', [\"jupyter-js-widgets\"], function(widgets) {\n",
    "    \n",
    "    var SpinnerView = widgets.DOMWidgetView.extend({\n",
    "        \n",
    "        render: function() { \n",
    "            \n",
    "            // jQuery code to create a spinner and append it to $el\n",
    "            this.input = $('<input />');\n",
    "            this.el.append(this.input);\n",
    "            this.spinner = this.input.spinner({\n",
    "                change: function( event, ui ) {}\n",
    "            });\n",
    "            \n",
    "            this.value_changed();\n",
    "            this.model.on('change:value', this.value_changed, this);\n",
    "        },\n",
    "        \n",
    "        value_changed: function() {\n",
    "            \n",
    "        },\n",
    "    });\n",
    "    \n",
    "    return {\n",
    "        SpinnerView: SpinnerView\n",
    "    };\n",
    "});"
   ]
  },
  {
   "cell_type": "code",
   "execution_count": null,
   "metadata": {
    "collapsed": false
   },
   "outputs": [],
   "source": [
    "%%javascript\n",
    "requirejs.undef('spinner');\n",
    "\n",
    "define('spinner', [\"jupyter-js-widgets\"], function(widgets) {\n",
    "\n",
    "    var SpinnerView = widgets.DOMWidgetView.extend({\n",
    "        render: function() { \n",
    "\n",
    "            var that = this;\n",
    "            this.$input = $('<input />');\n",
    "            this.$el.append(this.$input);\n",
    "            this.$spinner = this.$input.spinner({\n",
    "                change: function( event, ui ) {\n",
    "                    that.handle_spin(that.$spinner.spinner('value'));\n",
    "                },\n",
    "                spin: function( event, ui ) {\n",
    "                    //ui.value is the new value of the spinner\n",
    "                    that.handle_spin(ui.value);\n",
    "                }\n",
    "            });\n",
    "            \n",
    "            this.value_changed();\n",
    "            this.model.on('change:value', this.value_changed, this);\n",
    "        },\n",
    "        \n",
    "        value_changed: function() {\n",
    "            this.$spinner.spinner('value', this.model.get('value'));\n",
    "        },\n",
    "        \n",
    "        handle_spin: function(value) {\n",
    "            this.model.set('value', value);\n",
    "            this.touch();\n",
    "        },\n",
    "    });\n",
    "    \n",
    "    return {\n",
    "        SpinnerView: SpinnerView\n",
    "    };\n",
    "});"
   ]
  },
  {
   "cell_type": "code",
   "execution_count": null,
   "metadata": {
    "collapsed": false
   },
   "outputs": [],
   "source": [
    "w = SpinnerWidget(value=5)\n",
    "w"
   ]
  },
  {
   "cell_type": "code",
   "execution_count": null,
   "metadata": {
    "collapsed": false
   },
   "outputs": [],
   "source": [
    "w.value"
   ]
  },
  {
   "cell_type": "code",
   "execution_count": null,
   "metadata": {
    "collapsed": false
   },
   "outputs": [],
   "source": [
    "w.value = 20"
   ]
  },
  {
   "cell_type": "code",
   "execution_count": null,
   "metadata": {
    "collapsed": false
   },
   "outputs": [],
   "source": [
    "from IPython.display import display\n",
    "w1 = SpinnerWidget(value=0)\n",
    "w2 = widgets.IntSlider()\n",
    "display(w1,w2)\n",
    "\n",
    "from traitlets import link\n",
    "mylink = link((w1, 'value'), (w2, 'value'))"
   ]
  },
  {
   "cell_type": "code",
   "execution_count": null,
   "metadata": {
    "collapsed": true
   },
   "outputs": [],
   "source": []
  }
 ],
 "metadata": {
  "kernelspec": {
   "display_name": "Python 3",
   "language": "python",
   "name": "python3"
  },
  "language_info": {
   "codemirror_mode": {
    "name": "ipython",
    "version": 3
   },
   "file_extension": ".py",
   "mimetype": "text/x-python",
   "name": "python",
   "nbconvert_exporter": "python",
   "pygments_lexer": "ipython3",
   "version": "3.5.2"
  },
  "widgets": {
   "state": {
    "03016b030cc74368a333e91607bdc16e": {
     "views": [
      {
       "cell_index": 5
      }
     ]
    },
    "e4213fc3c41a4f3b97382590b2ee0b18": {
     "views": [
      {
       "cell_index": 3
      }
     ]
    }
   },
   "version": "1.2.0"
  }
 },
 "nbformat": 4,
 "nbformat_minor": 1
}
