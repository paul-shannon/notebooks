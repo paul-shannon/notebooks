{
 "cells": [
  {
   "cell_type": "markdown",
   "metadata": {},
   "source": [
    "## Learning ipywidgets: a very simple d3 \"CircleWidget\" with a js CircleView \n"
   ]
  },
  {
   "cell_type": "markdown",
   "metadata": {},
   "source": [
    "[github conversation](https://github.com/ipython/ipywidgets/issues/838#issuecomment-255506936)|"
   ]
  },
  {
   "cell_type": "code",
   "execution_count": 122,
   "metadata": {
    "collapsed": false
   },
   "outputs": [
    {
     "data": {
      "application/javascript": [
       "require.config({\n",
       "    paths: {\n",
       "        d3: '//cdnjs.cloudflare.com/ajax/libs/d3/3.4.8/d3.min'\n",
       "    },\n",
       "});"
      ],
      "text/plain": [
       "<IPython.core.display.Javascript object>"
      ]
     },
     "metadata": {},
     "output_type": "display_data"
    }
   ],
   "source": [
    "%%javascript\n",
    "require.config({\n",
    "    paths: {\n",
    "        d3: '//cdnjs.cloudflare.com/ajax/libs/d3/3.4.8/d3.min'\n",
    "    },\n",
    "});"
   ]
  },
  {
   "cell_type": "code",
   "execution_count": 123,
   "metadata": {
    "collapsed": false
   },
   "outputs": [],
   "source": [
    "import ipywidgets as widgets\n",
    "from traitlets import Int, Unicode, Tuple, CInt, Dict, validate\n",
    "\n",
    "class CircleWidget(widgets.DOMWidget):\n",
    "    _view_name = Unicode('CircleView').tag(sync=True)\n",
    "    _view_module = Unicode('circle').tag(sync=True)\n",
    "    radius = Int(100).tag(sync=True)\n",
    "    circles = Tuple().tag(sync=True)\n",
    "    def drawCircle(self, x, y, radius, fillColor=\"white\", borderColor=\"black\"):\n",
    "       newCircle = {\"x\": x,  \"y\": y, \"radius\": radius, \"fillColor\": fillColor, \"borderColor\": borderColor}\n",
    "       self.circles = (newCircle,) + self.circles\n"
   ]
  },
  {
   "cell_type": "code",
   "execution_count": 124,
   "metadata": {
    "collapsed": false
   },
   "outputs": [
    {
     "data": {
      "application/javascript": [
       "\"use strict\";\n",
       "\n",
       "require.undef('circle');\n",
       "\n",
       "define('circle', [\"jupyter-js-widgets\", \"d3\"], function(widgets, d3) {\n",
       "    \n",
       "    var CircleView = widgets.DOMWidgetView.extend({\n",
       "\n",
       "        initialize: function() {\n",
       "           console.log(\"---- initialize, this:\");\n",
       "           console.log(this);\n",
       "           this.circles = [];\n",
       "           },\n",
       "\n",
       "        createDiv: function(){\n",
       "            var div = $(\"<div id='d3DemoDiv' style='border:1px solid red; height: 300px; width: 600px'>\")\n",
       "            return(div);\n",
       "            },\n",
       " \n",
       "        createCanvas: function(){\n",
       "           var svg = d3.select(\"#d3DemoDiv\")\n",
       "                       .append(\"svg\")\n",
       "                       .attr(\"id\", \"svg\").attr(\"width\", 600).attr(\"height\", 300);\n",
       "           this.svg = svg;\n",
       "           console.log(\"---- createCanvas notion of this:\");\n",
       "           console.log(this);\n",
       "           var circleView = this;\n",
       "           svg.on('click', function() {\n",
       "              var coords = d3.mouse(this);\n",
       "              console.log(coords);\n",
       "              //debugger;\n",
       "              var newCircle = {x: coords[0], y: coords[1], radius: 20,\n",
       "                               borderColor: \"black\", fillColor: \"beige\"};\n",
       "              circleView.circles.push(newCircle);\n",
       "              circleView.drawCircle(newCircle);\n",
       "              //debugger;\n",
       "              circleView.model.set(\"circles\", JSON.stringify(circleView.circles));\n",
       "              circleView.touch();\n",
       "              });\n",
       "           }, \n",
       "\n",
       "        drawCircle: function(obj){\n",
       "           console.log(\"---- drawCircle notion of this:\");\n",
       "           console.log(this);\n",
       "           this.svg.append(\"circle\")\n",
       "              .style(\"stroke\", \"gray\")\n",
       "              .style(\"fill\", \"white\")\n",
       "              .attr(\"r\", obj.radius)\n",
       "              .attr(\"cx\", obj.x)\n",
       "              .attr(\"cy\", obj.y)\n",
       "              .on(\"mouseover\", function(){d3.select(this).style(\"fill\", \"aliceblue\");})\n",
       "              .on(\"mouseout\",  function(){d3.select(this).style(\"fill\", \"white\");});\n",
       "            },\n",
       "\n",
       "        render: function() { \n",
       "            this.$el.append(this.createDiv());\n",
       "            this.listenTo(this.model, 'change:circles', this._circles_changed, this);\n",
       "            console.log(\"---- render's notion of this:\");\n",
       "            console.log(this);\n",
       "            var circleView = this;\n",
       "            function myFunc(){\n",
       "               circleView.createCanvas()\n",
       "               }\n",
       "            setTimeout(myFunc, 500);\n",
       "            },\n",
       "\n",
       "        _circles_changed: function() {\n",
       "           console.log(\"_circles_changed\")\n",
       "           var newCircle = this.model.get(\"circles\")[0];\n",
       "           console.log(\"viewCircle.circles before adding new from python\")\n",
       "           console.log(this.circles);\n",
       "           this.circles.push(newCircle);\n",
       "           console.log(this.model.get('circles'));\n",
       "           this.drawCircle(newCircle);\n",
       "           }\n",
       "\n",
       "    });\n",
       "    return {\n",
       "        CircleView : CircleView\n",
       "    };\n",
       "});"
      ],
      "text/plain": [
       "<IPython.core.display.Javascript object>"
      ]
     },
     "metadata": {},
     "output_type": "display_data"
    }
   ],
   "source": [
    "%%javascript\n",
    "\"use strict\";\n",
    "\n",
    "require.undef('circle');\n",
    "\n",
    "define('circle', [\"jupyter-js-widgets\", \"d3\"], function(widgets, d3) {\n",
    "    \n",
    "    var CircleView = widgets.DOMWidgetView.extend({\n",
    "\n",
    "        initialize: function() {\n",
    "           console.log(\"---- initialize, this:\");\n",
    "           console.log(this);\n",
    "           this.circles = [];\n",
    "           },\n",
    "\n",
    "        createDiv: function(){\n",
    "            var div = $(\"<div id='d3DemoDiv' style='border:1px solid red; height: 300px; width: 600px'>\")\n",
    "            return(div);\n",
    "            },\n",
    " \n",
    "        createCanvas: function(){\n",
    "           var svg = d3.select(\"#d3DemoDiv\")\n",
    "                       .append(\"svg\")\n",
    "                       .attr(\"id\", \"svg\").attr(\"width\", 600).attr(\"height\", 300);\n",
    "           this.svg = svg;\n",
    "           console.log(\"---- createCanvas notion of this:\");\n",
    "           console.log(this);\n",
    "           var circleView = this;\n",
    "           svg.on('click', function() {\n",
    "              var coords = d3.mouse(this);\n",
    "              console.log(coords);\n",
    "              //debugger;\n",
    "              var newCircle = {x: coords[0], y: coords[1], radius: 20,\n",
    "                               borderColor: \"black\", fillColor: \"beige\"};\n",
    "              circleView.circles.push(newCircle);\n",
    "              circleView.drawCircle(newCircle);\n",
    "              //debugger;\n",
    "              circleView.model.set(\"circles\", JSON.stringify(circleView.circles));\n",
    "              circleView.touch();\n",
    "              });\n",
    "           }, \n",
    "\n",
    "        drawCircle: function(obj){\n",
    "           console.log(\"---- drawCircle notion of this:\");\n",
    "           console.log(this);\n",
    "           this.svg.append(\"circle\")\n",
    "              .style(\"stroke\", \"gray\")\n",
    "              .style(\"fill\", \"white\")\n",
    "              .attr(\"r\", obj.radius)\n",
    "              .attr(\"cx\", obj.x)\n",
    "              .attr(\"cy\", obj.y)\n",
    "              .on(\"mouseover\", function(){d3.select(this).style(\"fill\", \"aliceblue\");})\n",
    "              .on(\"mouseout\",  function(){d3.select(this).style(\"fill\", \"white\");});\n",
    "            },\n",
    "\n",
    "        render: function() { \n",
    "            this.$el.append(this.createDiv());\n",
    "            this.listenTo(this.model, 'change:circles', this._circles_changed, this);\n",
    "            console.log(\"---- render's notion of this:\");\n",
    "            console.log(this);\n",
    "            var circleView = this;\n",
    "            function myFunc(){\n",
    "               circleView.createCanvas()\n",
    "               }\n",
    "            setTimeout(myFunc, 500);\n",
    "            },\n",
    "\n",
    "        _circles_changed: function() {\n",
    "           console.log(\"_circles_changed\")\n",
    "           var newCircle = this.model.get(\"circles\")[0];\n",
    "           console.log(\"viewCircle.circles before adding new from python\")\n",
    "           console.log(this.circles);\n",
    "           this.circles.push(newCircle);\n",
    "           console.log(this.model.get('circles'));\n",
    "           this.drawCircle(newCircle);\n",
    "           }\n",
    "\n",
    "    });\n",
    "    return {\n",
    "        CircleView : CircleView\n",
    "    };\n",
    "});"
   ]
  },
  {
   "cell_type": "code",
   "execution_count": 125,
   "metadata": {
    "collapsed": false
   },
   "outputs": [],
   "source": [
    "cw = CircleWidget(width=500, height=300)\n",
    "cw"
   ]
  },
  {
   "cell_type": "code",
   "execution_count": 126,
   "metadata": {
    "collapsed": false
   },
   "outputs": [],
   "source": [
    "cw.drawCircle(x=30, y=30, radius=10)"
   ]
  },
  {
   "cell_type": "code",
   "execution_count": 127,
   "metadata": {
    "collapsed": false
   },
   "outputs": [],
   "source": [
    "cw.drawCircle(x=400, y=200, radius=30)"
   ]
  },
  {
   "cell_type": "code",
   "execution_count": 128,
   "metadata": {
    "collapsed": false
   },
   "outputs": [
    {
     "data": {
      "text/plain": [
       "({'borderColor': 'black',\n",
       "  'fillColor': 'white',\n",
       "  'radius': 30,\n",
       "  'x': 400,\n",
       "  'y': 200},\n",
       " {'borderColor': 'black',\n",
       "  'fillColor': 'white',\n",
       "  'radius': 10,\n",
       "  'x': 30,\n",
       "  'y': 30})"
      ]
     },
     "execution_count": 128,
     "metadata": {},
     "output_type": "execute_result"
    }
   ],
   "source": [
    "cw.circles"
   ]
  },
  {
   "cell_type": "code",
   "execution_count": 121,
   "metadata": {
    "collapsed": false
   },
   "outputs": [
    {
     "data": {
      "text/plain": [
       "()"
      ]
     },
     "execution_count": 121,
     "metadata": {},
     "output_type": "execute_result"
    }
   ],
   "source": [
    "cw.circles\n"
   ]
  },
  {
   "cell_type": "code",
   "execution_count": null,
   "metadata": {
    "collapsed": true
   },
   "outputs": [],
   "source": []
  }
 ],
 "metadata": {
  "kernelspec": {
   "display_name": "Python 3",
   "language": "python",
   "name": "python3"
  },
  "language_info": {
   "codemirror_mode": {
    "name": "ipython",
    "version": 3
   },
   "file_extension": ".py",
   "mimetype": "text/x-python",
   "name": "python",
   "nbconvert_exporter": "python",
   "pygments_lexer": "ipython3",
   "version": "3.5.2"
  }
 },
 "nbformat": 4,
 "nbformat_minor": 0
}
