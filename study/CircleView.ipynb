{
 "cells": [
  {
   "cell_type": "markdown",
   "metadata": {},
   "source": [
    "## Learning ipywidgets: a very simple d3 \"CircleWidget\" with a js CircleView \n"
   ]
  },
  {
   "cell_type": "markdown",
   "metadata": {},
   "source": [
    "I use this notebook to get acquainted with the mechanics and best practices for coding interactive ipywidgets, for Jupyter notebooks and the forthcoming Jupyter lab.    If successful, it may be useful to others who have already worked through the excellent [tutorial and 'datepicker' examples](https://ipywidgets.readthedocs.io/en/latest/) provided by the ipywidgets team.\n",
    "\n",
    "Once this simple notebook, illustrating the use of a \"foreign\" graphics library with ipywidgets, has passed muster, I will add documentation on the extra steps to produce a proper cookiecutter nbextensions template, and eventually into jupyter lab."
   ]
  },
  {
   "cell_type": "markdown",
   "metadata": {},
   "source": [
    "Specify the location of the d3 library:"
   ]
  },
  {
   "cell_type": "code",
   "execution_count": 74,
   "metadata": {
    "collapsed": false
   },
   "outputs": [
    {
     "data": {
      "application/javascript": [
       "require.config({\n",
       "    paths: {\n",
       "        d3: '//cdnjs.cloudflare.com/ajax/libs/d3/3.4.8/d3.min'\n",
       "    },\n",
       "});"
      ],
      "text/plain": [
       "<IPython.core.display.Javascript object>"
      ]
     },
     "metadata": {},
     "output_type": "display_data"
    }
   ],
   "source": [
    "%%javascript\n",
    "require.config({\n",
    "    paths: {\n",
    "        d3: '//cdnjs.cloudflare.com/ajax/libs/d3/3.4.8/d3.min'\n",
    "    },\n",
    "});\n"
   ]
  },
  {
   "cell_type": "code",
   "execution_count": 75,
   "metadata": {
    "collapsed": false
   },
   "outputs": [],
   "source": [
    "import ipywidgets as widgets\n",
    "from traitlets import Int, Unicode, List, CInt, Dict, validate\n",
    "\n",
    "class CircleWidget(widgets.DOMWidget):\n",
    "    _view_name = Unicode('CircleView').tag(sync=True)\n",
    "    _view_module = Unicode('circle').tag(sync=True)\n",
    "    radius = Int(100).tag(sync=True)\n",
    "    circles = List(trait=Int(19)).tag(sync=True)\n",
    "    circleDict = Dict().tag(sync=True)\n",
    "    def drawCircle(self, newRadius):\n",
    "       self.radius = newRadius\n",
    "       #self.circles = self.circles.append(newRadius)\n",
    "       self.circles = [newRadius, newRadius-1]\n",
    "       self.circleDict[\"aa\"] = newRadius\n"
   ]
  },
  {
   "cell_type": "markdown",
   "metadata": {},
   "source": [
    "One obvious flaw below is the preservation of WidgetView state via the browser \"window\" object.\n",
    "My attempts to use these variables failed, with assignment to them in one method not persisting:\n",
    "\n",
    "    this.svgCreated\n",
    "    this.svg\n",
    "    \n",
    " I will be grateful for insight on how to do that, or otherwise (without globals) preserve state."
   ]
  },
  {
   "cell_type": "markdown",
   "metadata": {},
   "source": [
    "<b>DOM latency</b>:  I discovered that the div (to which the d3 svg gets added) does not appear instantly in the DOM.\n",
    "The current solution is to delay 500 msecs before calling <i>createCanvas</i>.  A more robust approach would wait for the actual appearance of that underlying div in the DOM.  Suggestions?"
   ]
  },
  {
   "cell_type": "code",
   "execution_count": 77,
   "metadata": {
    "collapsed": false
   },
   "outputs": [
    {
     "data": {
      "application/javascript": [
       "\n",
       "require.undef('circle');\n",
       "\n",
       "define('circle', [\"jupyter-js-widgets\", \"d3\"], function(widgets, d3) {\n",
       "    \n",
       "    var CircleView = widgets.DOMWidgetView.extend({\n",
       "\n",
       "        initialize: function() {\n",
       "           window.svgCreated = false;\n",
       "           window.svg = null;\n",
       "           },\n",
       "\n",
       "        createDiv: function(){\n",
       "            var div = $(\"<div id='d3DemoDiv' style='border:1px solid red; height: 300px; width: 600px'>\")\n",
       "            return(div);\n",
       "            },\n",
       " \n",
       "        createCanvas: function(){\n",
       "           var svg = d3.select(\"#d3DemoDiv\")\n",
       "                       .append(\"svg\")\n",
       "                       .attr(\"id\", \"svg\").attr(\"width\", 600).attr(\"height\", 300);\n",
       "           window.svgCreated = true;\n",
       "           window.svg = svg;\n",
       "           }, // createCanvas\n",
       "\n",
       "        drawCircle: function(radius){\n",
       "           window.svg.append(\"circle\")\n",
       "              .style(\"stroke\", \"gray\")\n",
       "              .style(\"fill\", \"white\")\n",
       "              .attr(\"r\", radius)\n",
       "              .attr(\"cx\", 300)\n",
       "              .attr(\"cy\", 150)\n",
       "              .on(\"mouseover\", function(){d3.select(this).style(\"fill\", \"aliceblue\");})\n",
       "              .on(\"mouseout\",  function(){d3.select(this).style(\"fill\", \"white\");});\n",
       "            },\n",
       "\n",
       "        render: function() { \n",
       "            this.$el.append(this.createDiv());\n",
       "            this.listenTo(this.model, 'change:radius',  this._radius_changed,  this);\n",
       "            this.listenTo(this.model, 'change:circles', this._circles_changed, this);\n",
       "            this.listenTo(this.model, 'change:circleDict', this._circleDict_changed, this);\n",
       "            setTimeout(this.createCanvas, 500);\n",
       "            },\n",
       "\n",
       "        _radius_changed: function() {\n",
       "           var newRadius = this.model.get('radius');\n",
       "           this.drawCircle(newRadius);\n",
       "           console.log(\"radius_changed\");\n",
       "           },\n",
       "\n",
       "        _circles_changed: function() {\n",
       "           console.log(\"_circles_changed\")\n",
       "           console.log(this.model.get('circles'));\n",
       "           },\n",
       "\n",
       "        _circleDict_changed: function() {\n",
       "           console.log(\"_circleDict_changed\")\n",
       "           console.log(this.model.get('circleDict'));\n",
       "           }\n",
       "\n",
       "    });\n",
       "    return {\n",
       "        CircleView : CircleView\n",
       "    };\n",
       "});"
      ],
      "text/plain": [
       "<IPython.core.display.Javascript object>"
      ]
     },
     "metadata": {},
     "output_type": "display_data"
    }
   ],
   "source": [
    "%%javascript\n",
    "\n",
    "require.undef('circle');\n",
    "\n",
    "define('circle', [\"jupyter-js-widgets\", \"d3\"], function(widgets, d3) {\n",
    "    \n",
    "    var CircleView = widgets.DOMWidgetView.extend({\n",
    "\n",
    "        initialize: function() {\n",
    "           window.svgCreated = false;\n",
    "           window.svg = null;\n",
    "           },\n",
    "\n",
    "        createDiv: function(){\n",
    "            var div = $(\"<div id='d3DemoDiv' style='border:1px solid red; height: 300px; width: 600px'>\")\n",
    "            return(div);\n",
    "            },\n",
    " \n",
    "        createCanvas: function(){\n",
    "           var svg = d3.select(\"#d3DemoDiv\")\n",
    "                       .append(\"svg\")\n",
    "                       .attr(\"id\", \"svg\").attr(\"width\", 600).attr(\"height\", 300);\n",
    "           window.svgCreated = true;\n",
    "           window.svg = svg;\n",
    "           }, // createCanvas\n",
    "\n",
    "        drawCircle: function(radius){\n",
    "           window.svg.append(\"circle\")\n",
    "              .style(\"stroke\", \"gray\")\n",
    "              .style(\"fill\", \"white\")\n",
    "              .attr(\"r\", radius)\n",
    "              .attr(\"cx\", 300)\n",
    "              .attr(\"cy\", 150)\n",
    "              .on(\"mouseover\", function(){d3.select(this).style(\"fill\", \"aliceblue\");})\n",
    "              .on(\"mouseout\",  function(){d3.select(this).style(\"fill\", \"white\");});\n",
    "            },\n",
    "\n",
    "        render: function() { \n",
    "            this.$el.append(this.createDiv());\n",
    "            this.listenTo(this.model, 'change:radius',  this._radius_changed,  this);\n",
    "            this.listenTo(this.model, 'change:circles', this._circles_changed, this);\n",
    "            this.listenTo(this.model, 'change:circleDict', this._circleDict_changed, this);\n",
    "            setTimeout(this.createCanvas, 500);\n",
    "            },\n",
    "\n",
    "        _radius_changed: function() {\n",
    "           var newRadius = this.model.get('radius');\n",
    "           this.drawCircle(newRadius);\n",
    "           console.log(\"radius_changed\");\n",
    "           },\n",
    "\n",
    "        _circles_changed: function() {\n",
    "           console.log(\"_circles_changed\")\n",
    "           console.log(this.model.get('circles'));\n",
    "           },\n",
    "\n",
    "        _circleDict_changed: function() {\n",
    "           console.log(\"_circleDict_changed\")\n",
    "           console.log(this.model.get('circleDict'));\n",
    "           }\n",
    "\n",
    "    });\n",
    "    return {\n",
    "        CircleView : CircleView\n",
    "    };\n",
    "});"
   ]
  },
  {
   "cell_type": "markdown",
   "metadata": {},
   "source": [
    "How to add extra args to the CircleWidget ctor, pass them into the CircleView js object?"
   ]
  },
  {
   "cell_type": "code",
   "execution_count": 78,
   "metadata": {
    "collapsed": false
   },
   "outputs": [],
   "source": [
    "cw = CircleWidget(height=300, width=500)  # extra args currently ignored.  how to parse and send to javascript?\n",
    "cw"
   ]
  },
  {
   "cell_type": "markdown",
   "metadata": {},
   "source": [
    "Modifiying the traitlet Int radius field triggers radius_changed, circle is drawn with new radius"
   ]
  },
  {
   "cell_type": "code",
   "execution_count": 79,
   "metadata": {
    "collapsed": false
   },
   "outputs": [],
   "source": [
    "cw.drawCircle(10)"
   ]
  },
  {
   "cell_type": "code",
   "execution_count": 80,
   "metadata": {
    "collapsed": false
   },
   "outputs": [],
   "source": [
    "cw.radius = 80\n",
    "cw.radius = 30"
   ]
  },
  {
   "cell_type": "code",
   "execution_count": 81,
   "metadata": {
    "collapsed": false
   },
   "outputs": [
    {
     "data": {
      "text/plain": [
       "[10, 9]"
      ]
     },
     "execution_count": 81,
     "metadata": {},
     "output_type": "execute_result"
    }
   ],
   "source": [
    "cw.circles"
   ]
  },
  {
   "cell_type": "code",
   "execution_count": 82,
   "metadata": {
    "collapsed": false
   },
   "outputs": [],
   "source": [
    "cw.drawCircle(88)"
   ]
  },
  {
   "cell_type": "markdown",
   "metadata": {},
   "source": [
    "How does one define a (python) function in a DomWidget subclass, of this general sort?\n",
    "\n",
    "    cw.drawCircle(radius=30, x=100, y=100, borderColor=\"red\", fillColor=\"white\")\n",
    "    "
   ]
  },
  {
   "cell_type": "code",
   "execution_count": 73,
   "metadata": {
    "collapsed": false
   },
   "outputs": [
    {
     "data": {
      "text/plain": [
       "[88, 87]"
      ]
     },
     "execution_count": 73,
     "metadata": {},
     "output_type": "execute_result"
    }
   ],
   "source": [
    "cw.circles"
   ]
  },
  {
   "cell_type": "code",
   "execution_count": 10,
   "metadata": {
    "collapsed": true
   },
   "outputs": [],
   "source": [
    "cw.drawCircle(33)"
   ]
  },
  {
   "cell_type": "code",
   "execution_count": 83,
   "metadata": {
    "collapsed": false
   },
   "outputs": [
    {
     "data": {
      "text/plain": [
       "{'aa': 88}"
      ]
     },
     "execution_count": 83,
     "metadata": {},
     "output_type": "execute_result"
    }
   ],
   "source": [
    "cw.circleDict"
   ]
  },
  {
   "cell_type": "code",
   "execution_count": null,
   "metadata": {
    "collapsed": true
   },
   "outputs": [],
   "source": []
  }
 ],
 "metadata": {
  "kernelspec": {
   "display_name": "Python 3",
   "language": "python",
   "name": "python3"
  },
  "language_info": {
   "codemirror_mode": {
    "name": "ipython",
    "version": 3
   },
   "file_extension": ".py",
   "mimetype": "text/x-python",
   "name": "python",
   "nbconvert_exporter": "python",
   "pygments_lexer": "ipython3",
   "version": "3.5.2"
  }
 },
 "nbformat": 4,
 "nbformat_minor": 0
}
