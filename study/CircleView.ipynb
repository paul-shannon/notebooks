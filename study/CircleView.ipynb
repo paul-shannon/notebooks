{
 "cells": [
  {
   "cell_type": "markdown",
   "metadata": {},
   "source": [
    "## Learning ipywidgets: a very simple d3 \"CircleWidget\" with a js CircleView \n"
   ]
  },
  {
   "cell_type": "markdown",
   "metadata": {},
   "source": [
    "I use this notebook to get acquainted with the mechanics and best practices for coding interactive ipywidgets, for Jupyter notebooks and the forthcoming Jupyter lab.    If successful, it may be useful to others who have already worked through the excellent [tutorial and 'datepicker' examples](https://ipywidgets.readthedocs.io/en/latest/) provided by the ipywidgets team.\n",
    "\n",
    "Once this simple notebook, illustrating the use of a \"foreign\" graphics library with ipywidgets, has passed muster, I will add documentation on the extra steps to produce a proper cookiecutter nbextensions template, and eventually into jupyter lab."
   ]
  },
  {
   "cell_type": "markdown",
   "metadata": {},
   "source": [
    " Make the d3 library available via requirejs.  Repeated attempts to also use define and shims failed to produce a\n",
    "d3 variable to be used for drawing.  See crude solution, with require([\"d3\"]) in function createDiv along with\n",
    "an embarrassing use of global \"window\" so d3 can be referenced in createCanvasDrawCircle.\n",
    "\n",
    "Possibly related is this 2014 [discussion](https://github.com/d3/d3/issues/1693): d3 vs. AMD, support for require but maybe not define."
   ]
  },
  {
   "cell_type": "code",
   "execution_count": 1,
   "metadata": {
    "collapsed": false
   },
   "outputs": [
    {
     "data": {
      "application/javascript": [
       "require.config({\n",
       "    paths: {\n",
       "        d3: '//cdnjs.cloudflare.com/ajax/libs/d3/3.4.8/d3.min'\n",
       "    },\n",
       "});"
      ],
      "text/plain": [
       "<IPython.core.display.Javascript object>"
      ]
     },
     "metadata": {},
     "output_type": "display_data"
    }
   ],
   "source": [
    "%%javascript\n",
    "require.config({\n",
    "    paths: {\n",
    "        d3: '//cdnjs.cloudflare.com/ajax/libs/d3/3.4.8/d3.min'\n",
    "    },\n",
    "});\n"
   ]
  },
  {
   "cell_type": "code",
   "execution_count": 2,
   "metadata": {
    "collapsed": false
   },
   "outputs": [],
   "source": [
    "import ipywidgets as widgets\n",
    "from traitlets import Int, Unicode, validate\n",
    "\n",
    "class CircleWidget(widgets.DOMWidget):\n",
    "    _view_name = Unicode('CircleView').tag(sync=True)\n",
    "    _view_module = Unicode('circle').tag(sync=True)\n",
    "    ratio = Int(100).tag(sync=True)\n"
   ]
  },
  {
   "cell_type": "markdown",
   "metadata": {},
   "source": [
    "The CircleView object, below, deletes and recreates both svg canvas and a circle on every \"ratio changed\" event.\n",
    "An obvious improvement is to allows the svg canvas, at least, to persist.  I could not make that work:  every attempt to keep that variable around as part of CircleView failed.  I also failed to get an\n",
    "initial circle drawn.  Perhaps there is some DOM and/or svg latency?  "
   ]
  },
  {
   "cell_type": "code",
   "execution_count": 3,
   "metadata": {
    "collapsed": false
   },
   "outputs": [
    {
     "data": {
      "application/javascript": [
       "require.undef('circle');\n",
       "\n",
       "define('circle', [\"jupyter-js-widgets\"], function(widgets) {\n",
       "    \n",
       "    var CircleView = widgets.DOMWidgetView.extend({\n",
       "\n",
       "        createCanvasDrawCircle: function(ratio){\n",
       "           window.d3.select(\"#svg\").remove();\n",
       "           var svg = window.d3.select(\"#d3DemoDiv\")\n",
       "                              .append(\"svg\")\n",
       "                              .attr(\"id\", \"svg\").attr(\"width\", 600).attr(\"height\", 300);\n",
       "           svg.append(\"circle\")\n",
       "              .style(\"stroke\", \"gray\")\n",
       "              .style(\"fill\", \"white\")\n",
       "              .attr(\"r\", ratio)\n",
       "              .attr(\"cx\", 300)\n",
       "              .attr(\"cy\", 150)\n",
       "              .on(\"mouseover\", function(){d3.select(this).style(\"fill\", \"aliceblue\");})\n",
       "              .on(\"mouseout\", function(){d3.select(this).style(\"fill\", \"white\");});\n",
       "            return(svg)\n",
       "            },\n",
       "\n",
       "        createDiv: function(){\n",
       "           require([\"d3\"], function(d3){  // require, with and w/o shim, failed to load d3\n",
       "              console.log(d3.version);\n",
       "              window.d3 = d3;\n",
       "              });\n",
       "            var div = $(\"<div id='d3DemoDiv' style='border:1px solid red; height: 300px; width: 600px'>\")\n",
       "            return(div);\n",
       "            },\n",
       " \n",
       "        render: function() { \n",
       "            console.log(\"CircleView:render called, current ratio is \" + this.model.get('ratio'));\n",
       "            this.$el.append(this.createDiv());\n",
       "            this._ratio_changed();  // \n",
       "            this.listenTo(this.model, 'change:ratio', this._ratio_changed, this);\n",
       "           },\n",
       "\n",
       "        _ratio_changed: function() {\n",
       "           console.log(\"CircleView:_ratio_changed called\")\n",
       "           var newRatio = this.model.get('ratio');\n",
       "           var canvas = this.createCanvasDrawCircle(newRatio);\n",
       "           }\n",
       "      });\n",
       "    return {\n",
       "        CircleView : CircleView\n",
       "    };\n",
       "});"
      ],
      "text/plain": [
       "<IPython.core.display.Javascript object>"
      ]
     },
     "metadata": {},
     "output_type": "display_data"
    }
   ],
   "source": [
    "%%javascript\n",
    "require.undef('circle');\n",
    "\n",
    "define('circle', [\"jupyter-js-widgets\"], function(widgets) {\n",
    "    \n",
    "    var CircleView = widgets.DOMWidgetView.extend({\n",
    "\n",
    "        createCanvasDrawCircle: function(ratio){\n",
    "           window.d3.select(\"#svg\").remove();\n",
    "           var svg = window.d3.select(\"#d3DemoDiv\")\n",
    "                              .append(\"svg\")\n",
    "                              .attr(\"id\", \"svg\").attr(\"width\", 600).attr(\"height\", 300);\n",
    "           svg.append(\"circle\")\n",
    "              .style(\"stroke\", \"gray\")\n",
    "              .style(\"fill\", \"white\")\n",
    "              .attr(\"r\", ratio)\n",
    "              .attr(\"cx\", 300)\n",
    "              .attr(\"cy\", 150)\n",
    "              .on(\"mouseover\", function(){d3.select(this).style(\"fill\", \"aliceblue\");})\n",
    "              .on(\"mouseout\", function(){d3.select(this).style(\"fill\", \"white\");});\n",
    "            return(svg)\n",
    "            },\n",
    "\n",
    "        createDiv: function(){\n",
    "           require([\"d3\"], function(d3){  // require, with and w/o shim, failed to load d3\n",
    "              console.log(d3.version);\n",
    "              window.d3 = d3;\n",
    "              });\n",
    "            var div = $(\"<div id='d3DemoDiv' style='border:1px solid red; height: 300px; width: 600px'>\")\n",
    "            return(div);\n",
    "            },\n",
    " \n",
    "        render: function() { \n",
    "            console.log(\"CircleView:render called, current ratio is \" + this.model.get('ratio'));\n",
    "            this.$el.append(this.createDiv());\n",
    "            this._ratio_changed();  // \n",
    "            this.listenTo(this.model, 'change:ratio', this._ratio_changed, this);\n",
    "           },\n",
    "\n",
    "        _ratio_changed: function() {\n",
    "           console.log(\"CircleView:_ratio_changed called\")\n",
    "           var newRatio = this.model.get('ratio');\n",
    "           var canvas = this.createCanvasDrawCircle(newRatio);\n",
    "           }\n",
    "      });\n",
    "    return {\n",
    "        CircleView : CircleView\n",
    "    };\n",
    "});"
   ]
  },
  {
   "cell_type": "markdown",
   "metadata": {},
   "source": [
    "Call the ctor, evaluate the object: render method called, but no drawing takes place.  dom/d3 latency?"
   ]
  },
  {
   "cell_type": "code",
   "execution_count": 7,
   "metadata": {
    "collapsed": false
   },
   "outputs": [],
   "source": [
    "cw = CircleWidget(height=300, width=500)  # render called, _ratio_changed called, but no circle drawn\n",
    "cw"
   ]
  },
  {
   "cell_type": "markdown",
   "metadata": {},
   "source": [
    "Modifiying the traitlet Int ratio field triggers ratio_changed, circle is drawn with new radius"
   ]
  },
  {
   "cell_type": "code",
   "execution_count": 12,
   "metadata": {
    "collapsed": false
   },
   "outputs": [],
   "source": [
    "cw.ratio = 80"
   ]
  },
  {
   "cell_type": "code",
   "execution_count": 11,
   "metadata": {
    "collapsed": true
   },
   "outputs": [],
   "source": [
    "cw.ratio = 40"
   ]
  },
  {
   "cell_type": "code",
   "execution_count": null,
   "metadata": {
    "collapsed": true
   },
   "outputs": [],
   "source": []
  }
 ],
 "metadata": {
  "kernelspec": {
   "display_name": "Python 3",
   "language": "python",
   "name": "python3"
  },
  "language_info": {
   "codemirror_mode": {
    "name": "ipython",
    "version": 3
   },
   "file_extension": ".py",
   "mimetype": "text/x-python",
   "name": "python",
   "nbconvert_exporter": "python",
   "pygments_lexer": "ipython3",
   "version": "3.5.2"
  }
 },
 "nbformat": 4,
 "nbformat_minor": 0
}
